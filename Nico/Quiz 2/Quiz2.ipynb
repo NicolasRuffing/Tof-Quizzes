{
 "cells": [
  {
   "cell_type": "markdown",
   "id": "7d4f3a94",
   "metadata": {},
   "source": [
    "# Quiz 2 Nicolas Ruffing"
   ]
  },
  {
   "cell_type": "markdown",
   "id": "83666c91",
   "metadata": {},
   "source": [
    "## Downloading and filtering the data"
   ]
  },
  {
   "cell_type": "code",
   "execution_count": 5,
   "id": "b1f65e49",
   "metadata": {},
   "outputs": [
    {
     "data": {
      "application/vnd.microsoft.datawrangler.viewer.v0+json": {
       "columns": [
        {
         "name": "index",
         "rawType": "int64",
         "type": "integer"
        },
        {
         "name": "Date",
         "rawType": "datetime64[ns]",
         "type": "datetime"
        },
        {
         "name": "GDAXI",
         "rawType": "float64",
         "type": "float"
        },
        {
         "name": "FTSE",
         "rawType": "float64",
         "type": "float"
        }
       ],
       "ref": "2b4449e5-dba5-432b-a271-3a6d0251a65c",
       "rows": [
        [
         "0",
         "2023-01-02 00:00:00",
         "14069.26",
         "7451.74"
        ],
        [
         "1",
         "2023-01-03 00:00:00",
         "14181.67",
         "7554.09"
        ],
        [
         "2",
         "2023-01-04 00:00:00",
         "14490.78",
         "7585.19"
        ],
        [
         "3",
         "2023-01-05 00:00:00",
         "14436.31",
         "7633.45"
        ],
        [
         "4",
         "2023-01-06 00:00:00",
         "14610.02",
         "7699.49"
        ]
       ],
       "shape": {
        "columns": 3,
        "rows": 5
       }
      },
      "text/html": [
       "<div>\n",
       "<style scoped>\n",
       "    .dataframe tbody tr th:only-of-type {\n",
       "        vertical-align: middle;\n",
       "    }\n",
       "\n",
       "    .dataframe tbody tr th {\n",
       "        vertical-align: top;\n",
       "    }\n",
       "\n",
       "    .dataframe thead th {\n",
       "        text-align: right;\n",
       "    }\n",
       "</style>\n",
       "<table border=\"1\" class=\"dataframe\">\n",
       "  <thead>\n",
       "    <tr style=\"text-align: right;\">\n",
       "      <th></th>\n",
       "      <th>Date</th>\n",
       "      <th>GDAXI</th>\n",
       "      <th>FTSE</th>\n",
       "    </tr>\n",
       "  </thead>\n",
       "  <tbody>\n",
       "    <tr>\n",
       "      <th>0</th>\n",
       "      <td>2023-01-02</td>\n",
       "      <td>14069.26</td>\n",
       "      <td>7451.74</td>\n",
       "    </tr>\n",
       "    <tr>\n",
       "      <th>1</th>\n",
       "      <td>2023-01-03</td>\n",
       "      <td>14181.67</td>\n",
       "      <td>7554.09</td>\n",
       "    </tr>\n",
       "    <tr>\n",
       "      <th>2</th>\n",
       "      <td>2023-01-04</td>\n",
       "      <td>14490.78</td>\n",
       "      <td>7585.19</td>\n",
       "    </tr>\n",
       "    <tr>\n",
       "      <th>3</th>\n",
       "      <td>2023-01-05</td>\n",
       "      <td>14436.31</td>\n",
       "      <td>7633.45</td>\n",
       "    </tr>\n",
       "    <tr>\n",
       "      <th>4</th>\n",
       "      <td>2023-01-06</td>\n",
       "      <td>14610.02</td>\n",
       "      <td>7699.49</td>\n",
       "    </tr>\n",
       "  </tbody>\n",
       "</table>\n",
       "</div>"
      ],
      "text/plain": [
       "        Date     GDAXI     FTSE\n",
       "0 2023-01-02  14069.26  7451.74\n",
       "1 2023-01-03  14181.67  7554.09\n",
       "2 2023-01-04  14490.78  7585.19\n",
       "3 2023-01-05  14436.31  7633.45\n",
       "4 2023-01-06  14610.02  7699.49"
      ]
     },
     "execution_count": 5,
     "metadata": {},
     "output_type": "execute_result"
    }
   ],
   "source": [
    "import pandas as pd\n",
    "\n",
    "data = pd.read_csv('Index.csv')\n",
    "data.columns = ['Date', 'GDAXI', 'FTSE']\n",
    "data['Date'] = pd.to_datetime(data['Date'], format='%d.%m.%Y')\n",
    "data = data.sort_values(by='Date').reset_index(drop=True)\n",
    "data.head()\n",
    "\n"
   ]
  },
  {
   "cell_type": "code",
   "execution_count": null,
   "id": "d684a8f7",
   "metadata": {},
   "outputs": [
    {
     "name": "stdout",
     "output_type": "stream",
     "text": [
      "--- Results for DAX Index ---\n",
      "Average Daily Simple Return: 0.000715 (or 0.0715%)\n",
      "Standard Deviation of Daily Returns: 0.007861 (or 0.7861%)\n",
      "\n",
      "===================================\n",
      "\n",
      "--- Results for FTSE Index ---\n",
      "Average Daily Simple Return: 0.000191 (or 0.0191%)\n",
      "Standard Deviation of Daily Returns: 0.006597 (or 0.6597%)\n"
     ]
    }
   ],
   "source": [
    "# daily simple returns\n",
    "daily_simple_returns = data.copy()\n",
    "daily_simple_returns['DAX_Return'] = daily_simple_returns['GDAXI'].pct_change()\n",
    "daily_simple_returns['FTSE_Return'] = daily_simple_returns['FTSE'].pct_change()\n",
    "\n",
    "avg_return_dax = daily_simple_returns['DAX_Return'].mean()\n",
    "std_dev_dax = daily_simple_returns['DAX_Return'].std()\n",
    "\n",
    "avg_return_ftse = daily_simple_returns['FTSE_Return'].mean()\n",
    "std_dev_ftse = daily_simple_returns['FTSE_Return'].std()\n",
    "\n",
    "\n",
    "print(\"--- Results for DAX Index ---\")\n",
    "print(f\"Average Daily Simple Return: {avg_return_dax:.6f} (or {avg_return_dax*100:.4f}%)\")\n",
    "print(f\"Standard Deviation of Daily Returns: {std_dev_dax:.6f} (or {std_dev_dax*100:.4f}%)\")\n",
    "print(\"\\n\" + \"=\"*35 + \"\\n\")\n",
    "print(\"--- Results for FTSE Index ---\")\n",
    "print(f\"Average Daily Simple Return: {avg_return_ftse:.6f} (or {avg_return_ftse*100:.4f}%)\")\n",
    "print(f\"Standard Deviation of Daily Returns: {std_dev_ftse:.6f} (or {std_dev_ftse*100:.4f}%)\")"
   ]
  },
  {
   "cell_type": "markdown",
   "id": "9a182a27",
   "metadata": {},
   "source": [
    "### 1 b)"
   ]
  },
  {
   "cell_type": "code",
   "execution_count": null,
   "id": "3115a753",
   "metadata": {},
   "outputs": [
    {
     "name": "stdout",
     "output_type": "stream",
     "text": [
      "DAX Index VaR:\n",
      "  Calculated 1-Day VaR (Decimal): -0.012216\n",
      "  Calculated 1-Day VaR (Percentage): -1.2216%\n",
      "\n",
      "  Interpretation:\n",
      "  We are 95% confident that the DAX will not lose more than 1.22% in a single day.\n",
      "========================================\n",
      "\n",
      "========================================\n",
      "FTSE Index VaR:\n",
      "  Calculated 1-Day VaR (Decimal): -0.010659\n",
      "  Calculated 1-Day VaR (Percentage): -1.0659%\n",
      "\n",
      "  Interpretation:\n",
      "  We are 95% confident that the FTSE will not lose more than 1.07% in a single day.\n",
      "========================================\n"
     ]
    }
   ],
   "source": [
    "confidence_level_pct = 95\n",
    "z_value = 1.644854\n",
    "\n",
    "var_dax = avg_return_dax - (z_value * std_dev_dax)\n",
    "var_ftse = avg_return_ftse - (z_value * std_dev_ftse)\n",
    "\n",
    "print(\"DAX Index VaR:\")\n",
    "print(f\"  Calculated 1-Day VaR (Decimal): {var_dax:.6f}\")\n",
    "print(f\"  Calculated 1-Day VaR (Percentage): {var_dax * 100:.4f}%\")\n",
    "print(\"\\n  Interpretation:\")\n",
    "print(f\"  We are {confidence_level_pct}% confident that the DAX will not lose more than {abs(var_dax * 100):.2f}% in a single day.\")\n",
    "print(\"=\"*40 + \"\\n\")\n",
    "\n",
    "print(\"=\"*40)\n",
    "print(\"FTSE Index VaR:\")\n",
    "print(f\"  Calculated 1-Day VaR (Decimal): {var_ftse:.6f}\")\n",
    "print(f\"  Calculated 1-Day VaR (Percentage): {var_ftse * 100:.4f}%\")\n",
    "print(\"\\n  Interpretation:\")\n",
    "print(f\"  We are {confidence_level_pct}% confident that the FTSE will not lose more than {abs(var_ftse * 100):.2f}% in a single day.\")\n",
    "print(\"=\"*40)"
   ]
  },
  {
   "cell_type": "code",
   "execution_count": null,
   "id": "94434945",
   "metadata": {},
   "outputs": [],
   "source": []
  }
 ],
 "metadata": {
  "kernelspec": {
   "display_name": "base",
   "language": "python",
   "name": "python3"
  },
  "language_info": {
   "codemirror_mode": {
    "name": "ipython",
    "version": 3
   },
   "file_extension": ".py",
   "mimetype": "text/x-python",
   "name": "python",
   "nbconvert_exporter": "python",
   "pygments_lexer": "ipython3",
   "version": "3.12.9"
  }
 },
 "nbformat": 4,
 "nbformat_minor": 5
}
