{
 "cells": [
  {
   "cell_type": "code",
   "execution_count": 2,
   "id": "731fd41a",
   "metadata": {},
   "outputs": [],
   "source": [
    "import pandas as pd\n",
    "import numpy as np"
   ]
  },
  {
   "cell_type": "code",
   "execution_count": 5,
   "id": "3e104f67",
   "metadata": {},
   "outputs": [
    {
     "name": "stdout",
     "output_type": "stream",
     "text": [
      "The datasets are identical.\n"
     ]
    }
   ],
   "source": [
    "data_peer = pd.read_csv('/Users/peer/Documents/GitHub/Tof-Quizzes/Nico/Stocks.csv')\n",
    "data_nico = pd.read_csv('/Users/peer/Documents/GitHub/Tof-Quizzes/Nico/Stocks.csv')\n",
    "\n",
    "# check if data is identical\n",
    "if data_peer.equals(data_nico):\n",
    "    print(\"The datasets are identical.\")"
   ]
  }
 ],
 "metadata": {
  "kernelspec": {
   "display_name": "basepy",
   "language": "python",
   "name": "python3"
  },
  "language_info": {
   "codemirror_mode": {
    "name": "ipython",
    "version": 3
   },
   "file_extension": ".py",
   "mimetype": "text/x-python",
   "name": "python",
   "nbconvert_exporter": "python",
   "pygments_lexer": "ipython3",
   "version": "3.12.9"
  }
 },
 "nbformat": 4,
 "nbformat_minor": 5
}
