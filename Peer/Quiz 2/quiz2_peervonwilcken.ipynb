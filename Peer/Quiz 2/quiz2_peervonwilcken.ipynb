{
 "cells": [
  {
   "cell_type": "code",
   "execution_count": 30,
   "id": "a970dcd1",
   "metadata": {},
   "outputs": [],
   "source": [
    "import numpy as np\n",
    "import pandas as pd"
   ]
  },
  {
   "cell_type": "code",
   "execution_count": 31,
   "id": "2d499b31",
   "metadata": {},
   "outputs": [
    {
     "name": "stderr",
     "output_type": "stream",
     "text": [
      "/var/folders/qz/zw2_l33977s2ysrh3q_yxj740000gn/T/ipykernel_22352/2079971739.py:3: UserWarning: Parsing dates in %d.%m.%Y format when dayfirst=False (the default) was specified. Pass `dayfirst=True` or specify a format to silence this warning.\n",
      "  data.index = pd.to_datetime(data.index)\n"
     ]
    },
    {
     "data": {
      "application/vnd.microsoft.datawrangler.viewer.v0+json": {
       "columns": [
        {
         "name": "Date",
         "rawType": "datetime64[ns]",
         "type": "datetime"
        },
        {
         "name": "DAX",
         "rawType": "float64",
         "type": "float"
        },
        {
         "name": "FTSE",
         "rawType": "float64",
         "type": "float"
        }
       ],
       "ref": "4d76a29a-d99d-40a8-851d-c447f1fd5bb5",
       "rows": [
        [
         "2023-01-02 00:00:00",
         "14069.26",
         "7451.74"
        ],
        [
         "2023-01-03 00:00:00",
         "14181.67",
         "7554.09"
        ],
        [
         "2023-01-04 00:00:00",
         "14490.78",
         "7585.19"
        ],
        [
         "2023-01-05 00:00:00",
         "14436.31",
         "7633.45"
        ],
        [
         "2023-01-06 00:00:00",
         "14610.02",
         "7699.49"
        ],
        [
         "2023-01-09 00:00:00",
         "14792.83",
         "7724.94"
        ],
        [
         "2023-01-10 00:00:00",
         "14774.6",
         "7694.49"
        ],
        [
         "2023-01-11 00:00:00",
         "14947.91",
         "7724.98"
        ],
        [
         "2023-01-12 00:00:00",
         "15058.3",
         "7794.04"
        ],
        [
         "2023-01-13 00:00:00",
         "15086.52",
         "7844.07"
        ],
        [
         "2023-01-16 00:00:00",
         "15134.04",
         "7860.07"
        ],
        [
         "2023-01-17 00:00:00",
         "15187.07",
         "7851.03"
        ],
        [
         "2023-01-18 00:00:00",
         "15181.8",
         "7830.7"
        ],
        [
         "2023-01-19 00:00:00",
         "14920.36",
         "7747.29"
        ],
        [
         "2023-01-20 00:00:00",
         "15033.56",
         "7770.59"
        ],
        [
         "2023-01-23 00:00:00",
         "15102.95",
         "7784.67"
        ],
        [
         "2023-01-24 00:00:00",
         "15093.11",
         "7757.36"
        ],
        [
         "2023-01-25 00:00:00",
         "15081.64",
         "7744.87"
        ],
        [
         "2023-01-26 00:00:00",
         "15132.85",
         "7761.11"
        ],
        [
         "2023-01-27 00:00:00",
         "15150.03",
         "7765.15"
        ],
        [
         "2023-01-30 00:00:00",
         "15126.08",
         "7784.87"
        ],
        [
         "2023-01-31 00:00:00",
         "15128.27",
         "7771.7"
        ],
        [
         "2023-02-01 00:00:00",
         "15180.74",
         "7761.11"
        ],
        [
         "2023-02-02 00:00:00",
         "15509.19",
         "7820.16"
        ],
        [
         "2023-02-03 00:00:00",
         "15476.43",
         "7901.8"
        ],
        [
         "2023-02-06 00:00:00",
         "15345.91",
         "7836.71"
        ],
        [
         "2023-02-07 00:00:00",
         "15320.88",
         "7864.71"
        ],
        [
         "2023-02-08 00:00:00",
         "15412.05",
         "7885.17"
        ],
        [
         "2023-02-09 00:00:00",
         "15523.42",
         "7911.15"
        ],
        [
         "2023-02-10 00:00:00",
         "15307.98",
         "7882.45"
        ],
        [
         "2023-02-13 00:00:00",
         "15397.34",
         "7947.6"
        ],
        [
         "2023-02-14 00:00:00",
         "15380.56",
         "7953.85"
        ],
        [
         "2023-02-15 00:00:00",
         "15506.34",
         "7997.83"
        ],
        [
         "2023-02-16 00:00:00",
         "15533.64",
         "8012.53"
        ],
        [
         "2023-02-17 00:00:00",
         "15482.0",
         "8004.36"
        ],
        [
         "2023-02-20 00:00:00",
         "15477.55",
         "8014.31"
        ],
        [
         "2023-02-21 00:00:00",
         "15397.62",
         "7977.75"
        ],
        [
         "2023-02-22 00:00:00",
         "15399.89",
         "7930.63"
        ],
        [
         "2023-02-23 00:00:00",
         "15475.69",
         "7907.72"
        ],
        [
         "2023-02-24 00:00:00",
         "15209.74",
         "7878.66"
        ],
        [
         "2023-02-27 00:00:00",
         "15381.43",
         "7935.11"
        ],
        [
         "2023-02-28 00:00:00",
         "15365.14",
         "7876.28"
        ],
        [
         "2023-03-01 00:00:00",
         "15305.02",
         "7914.93"
        ],
        [
         "2023-03-02 00:00:00",
         "15327.64",
         "7944.04"
        ],
        [
         "2023-03-03 00:00:00",
         "15578.39",
         "7947.11"
        ],
        [
         "2023-03-06 00:00:00",
         "15653.58",
         "7929.79"
        ],
        [
         "2023-03-07 00:00:00",
         "15559.53",
         "7919.48"
        ],
        [
         "2023-03-08 00:00:00",
         "15631.87",
         "7929.92"
        ],
        [
         "2023-03-09 00:00:00",
         "15633.21",
         "7879.98"
        ],
        [
         "2023-03-10 00:00:00",
         "15427.97",
         "7748.35"
        ]
       ],
       "shape": {
        "columns": 2,
        "rows": 509
       }
      },
      "text/html": [
       "<div>\n",
       "<style scoped>\n",
       "    .dataframe tbody tr th:only-of-type {\n",
       "        vertical-align: middle;\n",
       "    }\n",
       "\n",
       "    .dataframe tbody tr th {\n",
       "        vertical-align: top;\n",
       "    }\n",
       "\n",
       "    .dataframe thead th {\n",
       "        text-align: right;\n",
       "    }\n",
       "</style>\n",
       "<table border=\"1\" class=\"dataframe\">\n",
       "  <thead>\n",
       "    <tr style=\"text-align: right;\">\n",
       "      <th></th>\n",
       "      <th>DAX</th>\n",
       "      <th>FTSE</th>\n",
       "    </tr>\n",
       "    <tr>\n",
       "      <th>Date</th>\n",
       "      <th></th>\n",
       "      <th></th>\n",
       "    </tr>\n",
       "  </thead>\n",
       "  <tbody>\n",
       "    <tr>\n",
       "      <th>2023-01-02</th>\n",
       "      <td>14069.26</td>\n",
       "      <td>7451.74</td>\n",
       "    </tr>\n",
       "    <tr>\n",
       "      <th>2023-01-03</th>\n",
       "      <td>14181.67</td>\n",
       "      <td>7554.09</td>\n",
       "    </tr>\n",
       "    <tr>\n",
       "      <th>2023-01-04</th>\n",
       "      <td>14490.78</td>\n",
       "      <td>7585.19</td>\n",
       "    </tr>\n",
       "    <tr>\n",
       "      <th>2023-01-05</th>\n",
       "      <td>14436.31</td>\n",
       "      <td>7633.45</td>\n",
       "    </tr>\n",
       "    <tr>\n",
       "      <th>2023-01-06</th>\n",
       "      <td>14610.02</td>\n",
       "      <td>7699.49</td>\n",
       "    </tr>\n",
       "    <tr>\n",
       "      <th>...</th>\n",
       "      <td>...</td>\n",
       "      <td>...</td>\n",
       "    </tr>\n",
       "    <tr>\n",
       "      <th>2024-12-19</th>\n",
       "      <td>19969.86</td>\n",
       "      <td>8105.32</td>\n",
       "    </tr>\n",
       "    <tr>\n",
       "      <th>2024-12-20</th>\n",
       "      <td>19884.75</td>\n",
       "      <td>8084.61</td>\n",
       "    </tr>\n",
       "    <tr>\n",
       "      <th>2024-12-23</th>\n",
       "      <td>19848.77</td>\n",
       "      <td>8102.72</td>\n",
       "    </tr>\n",
       "    <tr>\n",
       "      <th>2024-12-27</th>\n",
       "      <td>19984.32</td>\n",
       "      <td>8149.78</td>\n",
       "    </tr>\n",
       "    <tr>\n",
       "      <th>2024-12-30</th>\n",
       "      <td>19909.14</td>\n",
       "      <td>8121.01</td>\n",
       "    </tr>\n",
       "  </tbody>\n",
       "</table>\n",
       "<p>509 rows × 2 columns</p>\n",
       "</div>"
      ],
      "text/plain": [
       "                 DAX     FTSE\n",
       "Date                         \n",
       "2023-01-02  14069.26  7451.74\n",
       "2023-01-03  14181.67  7554.09\n",
       "2023-01-04  14490.78  7585.19\n",
       "2023-01-05  14436.31  7633.45\n",
       "2023-01-06  14610.02  7699.49\n",
       "...              ...      ...\n",
       "2024-12-19  19969.86  8105.32\n",
       "2024-12-20  19884.75  8084.61\n",
       "2024-12-23  19848.77  8102.72\n",
       "2024-12-27  19984.32  8149.78\n",
       "2024-12-30  19909.14  8121.01\n",
       "\n",
       "[509 rows x 2 columns]"
      ]
     },
     "execution_count": 31,
     "metadata": {},
     "output_type": "execute_result"
    }
   ],
   "source": [
    "data = pd.read_csv('Index.csv')\n",
    "data = data.set_index('Date')\n",
    "data.index = pd.to_datetime(data.index)\n",
    "data = data.sort_index(ascending=True)\n",
    "data = data.rename(columns={'.GDAXI (TRDPRC_1)': 'DAX', '.FTSE (TRDPRC_1)': 'FTSE'})\n",
    "data"
   ]
  },
  {
   "cell_type": "markdown",
   "id": "18bd02b6",
   "metadata": {},
   "source": [
    "# Part 1: Value at Risk (VaR)\n",
    "1. (a) Calculate the average daily simple return and the standard deviation of daily simple returns for both the DAX and the FTSE. "
   ]
  },
  {
   "cell_type": "code",
   "execution_count": 32,
   "id": "f1b353f1",
   "metadata": {},
   "outputs": [
    {
     "name": "stdout",
     "output_type": "stream",
     "text": [
      "DAX - Average Daily Return: 0.071%, Standard Deviation: 0.786%\n",
      "FTSE - Average Daily Return: 0.019%, Standard Deviation: 0.660%\n"
     ]
    }
   ],
   "source": [
    "avg_daily_return_dax = data['DAX'].pct_change().mean()\n",
    "std_daily_return_dax = data['DAX'].pct_change().std()\n",
    "avg_daily_return_ftse = data['FTSE'].pct_change().mean()\n",
    "std_daily_return_ftse = data['FTSE'].pct_change().std()\n",
    "\n",
    "print(f\"DAX - Average Daily Return: {avg_daily_return_dax * 100:.3f}%, Standard Deviation: {std_daily_return_dax * 100:.3f}%\")\n",
    "print(f\"FTSE - Average Daily Return: {avg_daily_return_ftse * 100:.3f}%, Standard Deviation: {std_daily_return_ftse * 100:.3f}%\")"
   ]
  },
  {
   "cell_type": "markdown",
   "id": "61cc1bbf",
   "metadata": {},
   "source": [
    "1. (b) Calculate the parametric Value at Risk (VaR) at the 95% confidence level for both the DAX and the FTSE. Use a z-value of 1.644854 in your calculation"
   ]
  },
  {
   "cell_type": "code",
   "execution_count": 33,
   "id": "91550d66",
   "metadata": {},
   "outputs": [
    {
     "name": "stdout",
     "output_type": "stream",
     "text": [
      "DAX - Value at Risk (95%): 1.29%\n",
      "FTSE - Value at Risk (95%): 1.09%\n"
     ]
    }
   ],
   "source": [
    "z_value = 1.644854\n",
    "var_dax = z_value * std_daily_return_dax\n",
    "var_ftse = z_value * std_daily_return_ftse\n",
    "\n",
    "print(f\"DAX - Value at Risk (95%): {var_dax * 100:.2f}%\")\n",
    "print(f\"FTSE - Value at Risk (95%): {var_ftse * 100:.2f}%\")"
   ]
  },
  {
   "cell_type": "markdown",
   "id": "d3c16bd8",
   "metadata": {},
   "source": [
    "1 c) Calculate the empirical Value at Risk (VaR) at the 95% confidence level for both the DAX and the FTSE. Do not interpolate between values. Instead, identify the smallest return that is greater than or equal to the 5th percentile of the return distribution."
   ]
  },
  {
   "cell_type": "code",
   "execution_count": 34,
   "id": "cd8850d3",
   "metadata": {},
   "outputs": [
    {
     "name": "stdout",
     "output_type": "stream",
     "text": [
      "DAX - Empirical Value at Risk (95%): 1.32%\n",
      "FTSE - Empirical Value at Risk (95%): 1.05%\n"
     ]
    }
   ],
   "source": [
    "empirical_var_dax = data['DAX'].pct_change().quantile(0.05)\n",
    "empirical_var_ftse = data['FTSE'].pct_change().quantile(0.05)\n",
    "\n",
    "print(f\"DAX - Empirical Value at Risk (95%): {-empirical_var_dax * 100:.2f}%\")\n",
    "print(f\"FTSE - Empirical Value at Risk (95%): {-empirical_var_ftse * 100:.2f}%\")"
   ]
  },
  {
   "cell_type": "markdown",
   "id": "736a72a8",
   "metadata": {},
   "source": [
    "1. (d) Create a return histogram for the DAX using the following specifications:\n",
    "Plot daily returns ranging from −0.05 to +0.05\n",
    "Use a bin width of 0.0025\n",
    "Add a red vertical line to indicate the parametric 95% VaR\n",
    "Add a blue vertical line to indicate the empirical 95% VaR\n"
   ]
  },
  {
   "cell_type": "code",
   "execution_count": 35,
   "id": "26a3e5d4",
   "metadata": {},
   "outputs": [
    {
     "data": {
      "image/png": "[encoded data removed]",
      "text/plain": [
       "<Figure size 1000x600 with 1 Axes>"
      ]
     },
     "metadata": {},
     "output_type": "display_data"
    }
   ],
   "source": [
    "import matplotlib.pyplot as plt\n",
    "plt.figure(figsize=(10, 6))\n",
    "plt.hist(data['DAX'].pct_change().dropna(), bins=np.arange(-0.05, 0.0525, 0.0025), edgecolor='black')\n",
    "plt.axvline(-var_dax, color='red', linestyle='dashed', linewidth=1.5, label='Parametric 95% VaR')\n",
    "plt.axvline(empirical_var_dax, color='blue', linestyle='dashed', linewidth=1.5, label='Empirical 95% VaR')\n",
    "plt.xlim(-0.05, 0.05)\n",
    "plt.xlabel('Daily Returns')\n",
    "plt.ylabel('Frequency')\n",
    "plt.title('DAX Daily Returns Histogram')\n",
    "plt.legend()\n",
    "plt.show()"
   ]
  },
  {
   "cell_type": "markdown",
   "id": "b188a9cf",
   "metadata": {},
   "source": [
    "1. (f) Analyze how the 95% parametric VaR changes with the investment horizon. Create a plot with the following features:\n",
    "X-axis: Trading days, ranging from 1 to 250\n",
    "Y-axis: Corresponding parametric 95% VaR"
   ]
  },
  {
   "cell_type": "code",
   "execution_count": 36,
   "id": "c9d163ac",
   "metadata": {},
   "outputs": [
    {
     "data": {
      "image/png": "[encoded data removed]",
      "text/plain": [
       "<Figure size 1000x600 with 1 Axes>"
      ]
     },
     "metadata": {},
     "output_type": "display_data"
    }
   ],
   "source": [
    "plt.figure(figsize=(10, 6))\n",
    "trading_days = np.arange(1, 251)\n",
    "var_dax_horizon = z_value * std_daily_return_dax * np.sqrt(trading_days)\n",
    "plt.plot(trading_days, -var_dax_horizon, label='DAX 95% Parametric VaR', color='blue')\n",
    "plt.xlabel('Trading Days')\n",
    "plt.ylabel('Value at Risk (95%)')\n",
    "plt.title('95% Parametric VaR vs. Investment Horizon')\n",
    "plt.legend()\n",
    "plt.grid()\n",
    "plt.show()"
   ]
  },
  {
   "cell_type": "markdown",
   "id": "98bb7c67",
   "metadata": {},
   "source": [
    "# Part 2: Portfolio Variance under CAPM\n"
   ]
  },
  {
   "cell_type": "code",
   "execution_count": 37,
   "id": "fa2247b9",
   "metadata": {},
   "outputs": [],
   "source": [
    "average_beta = 0.5\n",
    "var_market = 0.04\n",
    "var_residual = 0.09"
   ]
  },
  {
   "cell_type": "markdown",
   "id": "b1b2e004",
   "metadata": {},
   "source": [
    "2. (a) Calculate the portfolio variance for a portfolio of 100 assets assuming the average correlation between residuals is 0.2 and then 0.8."
   ]
  },
  {
   "cell_type": "code",
   "execution_count": 38,
   "id": "bddf7d2b",
   "metadata": {},
   "outputs": [
    {
     "name": "stdout",
     "output_type": "stream",
     "text": [
      "Portfolio Variance with p=0.2: 0.0287\n",
      "Portfolio Variance with p=0.8: 0.0822\n"
     ]
    }
   ],
   "source": [
    "# Part 2(a)\n",
    "p_1 = 0.2\n",
    "p_2 = 0.8\n",
    "n = 100\n",
    "\n",
    "var_portfolio_1 = (average_beta**2 * var_market) + (var_residual * ((1 - p_1) / n + p_1))\n",
    "var_portfolio_2 = (average_beta**2 * var_market) + (var_residual * ((1 - p_2) / n + p_2))\n",
    "\n",
    "print(f\"Portfolio Variance with p=0.2: {var_portfolio_1:.4f}\")\n",
    "print(f\"Portfolio Variance with p=0.8: {var_portfolio_2:.4f}\")"
   ]
  },
  {
   "cell_type": "markdown",
   "id": "3c1fae6b",
   "metadata": {},
   "source": [
    "2. (b) Calculate the portfolio variance for every combination(n, p) of n {1,2,...,10000} and p {0, 0.5, 1}.\n",
    "\n",
    "Plot your results with:\n",
    "    Number of assets on the x-axis\n",
    "    Portfolio variance on the y-axis\n",
    "    Include a separate line for each value of the correlation coefficient ."
   ]
  },
  {
   "cell_type": "code",
   "execution_count": 39,
   "id": "88b21c09",
   "metadata": {},
   "outputs": [
    {
     "data": {
      "image/png": "[encoded data removed]",
      "text/plain": [
       "<Figure size 1200x800 with 1 Axes>"
      ]
     },
     "metadata": {},
     "output_type": "display_data"
    }
   ],
   "source": [
    "# Part 2(b) - More efficient calculation\n",
    "n_values = np.arange(1, 10001)\n",
    "p_values = [0, 0.5, 1]\n",
    "\n",
    "plt.figure(figsize=(12, 8))\n",
    "\n",
    "for p in p_values:\n",
    "    var_portfolio_array = (average_beta**2 * var_market) + (var_residual * ((1 - p) / n_values + p))\n",
    "    plt.plot(n_values, var_portfolio_array, label=f'ρ={p}, limit={var_portfolio_array[-1]:.4f}', linewidth=2)\n",
    "\n",
    "plt.xlabel('Number of Assets (n)', fontsize=12)\n",
    "plt.ylabel('Portfolio Variance', fontsize=12)\n",
    "plt.title('Portfolio Variance vs. Number of Assets for Different Correlation Coefficients', fontsize=14)\n",
    "plt.legend(fontsize=10)\n",
    "plt.grid(alpha=0.3)\n",
    "plt.xlim(0, 10000)\n",
    "plt.ylim(0, 0.11)\n",
    "plt.show()"
   ]
  },
  {
   "cell_type": "markdown",
   "id": "97884a6e",
   "metadata": {},
   "source": [
    "# Part 3: Betas\n",
    "Teladoc (TDOC)\n",
    "Nike (NKE)\n",
    "American Water Works (AWK)\n",
    "S&P 500 Total Return Index (SPXTR)\n",
    "The columns for TDOC, NKE, and AWK report cumulative total returns, starting at 0% on July 2, 2015. Please be careful when calculating daily returns for these columns because you cannot use the usual price return formula . SPXTR represents the total return index of the S&P 500, which we use as the market portfolio. It is not a cumulative return — it is an actual index value. SOFR represents the risk-free rate, given as an annualized percentage (APR). You need to convert this to daily rates assuming 360 days per year. Finally, the columns TDOC, NKE, AWK, and SOFR are all expressed in percent (%). Convert them to decimal form before performing any calculations.\n",
    "\n",
    "Compute the daily simple returns for all assets. These returns will be used for estimating betas in the next steps."
   ]
  },
  {
   "cell_type": "code",
   "execution_count": 40,
   "id": "6758be9e",
   "metadata": {},
   "outputs": [
    {
     "name": "stderr",
     "output_type": "stream",
     "text": [
      "/var/folders/qz/zw2_l33977s2ysrh3q_yxj740000gn/T/ipykernel_22352/1418296914.py:3: UserWarning: Parsing dates in %d.%m.%Y format when dayfirst=False (the default) was specified. Pass `dayfirst=True` or specify a format to silence this warning.\n",
      "  data_stocks.index = pd.to_datetime(data_stocks.index)\n"
     ]
    },
    {
     "data": {
      "application/vnd.microsoft.datawrangler.viewer.v0+json": {
       "columns": [
        {
         "name": "Date",
         "rawType": "datetime64[ns]",
         "type": "datetime"
        },
        {
         "name": "TDOC",
         "rawType": "float64",
         "type": "float"
        },
        {
         "name": "NKE",
         "rawType": "float64",
         "type": "float"
        },
        {
         "name": "AWK",
         "rawType": "float64",
         "type": "float"
        },
        {
         "name": "SPXTR",
         "rawType": "float64",
         "type": "float"
        },
        {
         "name": "SOFR",
         "rawType": "float64",
         "type": "float"
        }
       ],
       "ref": "96f97639-71f1-43c2-806f-ea70a0a56293",
       "rows": [
        [
         "2015-07-02 00:00:00",
         "0.0",
         "0.0",
         "0.0",
         null,
         null
        ],
        [
         "2015-07-06 00:00:00",
         "-4.68",
         "-0.03",
         "0.72",
         "3827.35",
         "0.1"
        ],
        [
         "2015-07-07 00:00:00",
         "-3.54",
         "1.29",
         "2.47",
         "3850.66",
         "0.1"
        ],
        [
         "2015-07-08 00:00:00",
         "-6.25",
         "-0.55",
         "2.67",
         "3787.67",
         "0.1"
        ],
        [
         "2015-07-09 00:00:00",
         "-4.79",
         "-0.39",
         "0.66",
         "3796.26",
         "0.12"
        ],
        [
         "2015-07-10 00:00:00",
         "4.57",
         "0.59",
         "1.89",
         "3843.1",
         "0.14"
        ],
        [
         "2015-07-13 00:00:00",
         "10.57",
         "2.31",
         "2.29",
         "3885.97",
         "0.13"
        ],
        [
         "2015-07-14 00:00:00",
         "14.14",
         "2.25",
         "2.69",
         "3903.31",
         "0.14"
        ],
        [
         "2015-07-15 00:00:00",
         "9.61",
         "1.85",
         "2.81",
         "3900.5",
         "0.17"
        ],
        [
         "2015-07-16 00:00:00",
         "10.54",
         "2.25",
         "3.87",
         "3931.86",
         "0.16"
        ],
        [
         "2015-07-17 00:00:00",
         "9.29",
         "2.67",
         "2.93",
         "3936.22",
         "0.13"
        ],
        [
         "2015-07-20 00:00:00",
         "6.75",
         "2.97",
         "3.03",
         "3939.35",
         "0.1"
        ],
        [
         "2015-07-21 00:00:00",
         "8.93",
         "2.84",
         "1.83",
         "3922.7",
         "0.09"
        ],
        [
         "2015-07-22 00:00:00",
         "11.04",
         "3.84",
         "2.59",
         "3913.75",
         "0.07"
        ],
        [
         "2015-07-23 00:00:00",
         "9.07",
         "3.76",
         "1.18",
         "3891.79",
         "0.09"
        ],
        [
         "2015-07-24 00:00:00",
         "14.82",
         "2.84",
         "2.19",
         "3850.15",
         "0.15"
        ],
        [
         "2015-07-27 00:00:00",
         "11.82",
         "1.69",
         "3.53",
         "3827.93",
         "0.16"
        ],
        [
         "2015-07-28 00:00:00",
         "10.11",
         "3.28",
         "3.27",
         "3875.37",
         "0.15"
        ],
        [
         "2015-07-29 00:00:00",
         "12.75",
         "4.6",
         "3.73",
         "3904.21",
         "0.16"
        ],
        [
         "2015-07-30 00:00:00",
         "10.39",
         "4.68",
         "3.49",
         "3904.64",
         "0.2"
        ],
        [
         "2015-07-31 00:00:00",
         "12.75",
         "4.87",
         "4.13",
         "3895.8",
         "0.25"
        ],
        [
         "2015-08-03 00:00:00",
         "18.57",
         "4.51",
         "4.47",
         "3885.07",
         "0.19"
        ],
        [
         "2015-08-04 00:00:00",
         "24.36",
         "5.37",
         "2.77",
         "3876.44",
         "0.19"
        ],
        [
         "2015-08-05 00:00:00",
         "18.07",
         "6.26",
         "3.51",
         "3889.99",
         "0.19"
        ],
        [
         "2015-08-06 00:00:00",
         "14.54",
         "4.78",
         "4.53",
         "3860.92",
         "0.19"
        ],
        [
         "2015-08-07 00:00:00",
         "10.11",
         "4.22",
         "5.62",
         "3849.96",
         "0.2"
        ],
        [
         "2015-08-10 00:00:00",
         "8.82",
         "5.0",
         "5.52",
         "3899.36",
         "0.18"
        ],
        [
         "2015-08-11 00:00:00",
         "2.71",
         "4.18",
         "7.26",
         "3862.81",
         "0.18"
        ],
        [
         "2015-08-12 00:00:00",
         "1.82",
         "2.9",
         "8.51",
         "3867.37",
         "0.2"
        ],
        [
         "2015-08-13 00:00:00",
         "6.39",
         "3.39",
         "9.4",
         "3863.03",
         "0.2"
        ],
        [
         "2015-08-14 00:00:00",
         "1.86",
         "4.09",
         "9.62",
         "3878.16",
         "0.2"
        ],
        [
         "2015-08-17 00:00:00",
         "4.39",
         "4.65",
         "10.41",
         "3899.1",
         "0.2"
        ],
        [
         "2015-08-18 00:00:00",
         "1.07",
         "4.51",
         "10.31",
         "3889.6",
         "0.19"
        ],
        [
         "2015-08-19 00:00:00",
         "-4.11",
         "4.63",
         "10.65",
         "3857.74",
         "0.17"
        ],
        [
         "2015-08-20 00:00:00",
         "-5.36",
         "2.21",
         "9.42",
         "3776.36",
         "0.15"
        ],
        [
         "2015-08-21 00:00:00",
         "-8.43",
         "-2.73",
         "9.08",
         "3656.67",
         "0.14"
        ],
        [
         "2015-08-24 00:00:00",
         "-14.71",
         "-5.46",
         "4.86",
         "3512.65",
         "0.16"
        ],
        [
         "2015-08-25 00:00:00",
         "-17.14",
         "-5.77",
         "3.69",
         "3465.19",
         "0.15"
        ],
        [
         "2015-08-26 00:00:00",
         "-9.71",
         "-1.01",
         "5.28",
         "3600.73",
         "0.15"
        ],
        [
         "2015-08-27 00:00:00",
         "-6.68",
         "2.5",
         "7.3",
         "3688.6",
         "0.13"
        ],
        [
         "2015-08-28 00:00:00",
         "-1.0",
         "2.39",
         "7.04",
         "3691.3",
         "0.15"
        ],
        [
         "2015-08-31 00:00:00",
         "-8.07",
         "1.71",
         "4.88",
         "3660.75",
         "0.22"
        ],
        [
         "2015-09-01 00:00:00",
         "-18.39",
         "-1.13",
         "3.1",
         "3552.66",
         "0.21"
        ],
        [
         "2015-09-02 00:00:00",
         "-20.89",
         "0.76",
         "3.81",
         "3618.25",
         "0.18"
        ],
        [
         "2015-09-03 00:00:00",
         "-19.96",
         "1.15",
         "5.42",
         "3622.66",
         "0.14"
        ],
        [
         "2015-09-04 00:00:00",
         "-25.64",
         "0.09",
         "3.2",
         "3567.41",
         "0.12"
        ],
        [
         "2015-09-08 00:00:00",
         "-26.68",
         "1.97",
         "4.37",
         "3657.32",
         "0.11"
        ],
        [
         "2015-09-09 00:00:00",
         "-19.43",
         "0.24",
         "3.4",
         "3606.8",
         "0.1"
        ],
        [
         "2015-09-10 00:00:00",
         "-17.93",
         "0.72",
         "3.2",
         "3626.14",
         "0.14"
        ],
        [
         "2015-09-11 00:00:00",
         "-16.07",
         "2.03",
         "4.92",
         "3643.54",
         "0.14"
        ]
       ],
       "shape": {
        "columns": 5,
        "rows": 2513
       }
      },
      "text/html": [
       "<div>\n",
       "<style scoped>\n",
       "    .dataframe tbody tr th:only-of-type {\n",
       "        vertical-align: middle;\n",
       "    }\n",
       "\n",
       "    .dataframe tbody tr th {\n",
       "        vertical-align: top;\n",
       "    }\n",
       "\n",
       "    .dataframe thead th {\n",
       "        text-align: right;\n",
       "    }\n",
       "</style>\n",
       "<table border=\"1\" class=\"dataframe\">\n",
       "  <thead>\n",
       "    <tr style=\"text-align: right;\">\n",
       "      <th></th>\n",
       "      <th>TDOC</th>\n",
       "      <th>NKE</th>\n",
       "      <th>AWK</th>\n",
       "      <th>SPXTR</th>\n",
       "      <th>SOFR</th>\n",
       "    </tr>\n",
       "    <tr>\n",
       "      <th>Date</th>\n",
       "      <th></th>\n",
       "      <th></th>\n",
       "      <th></th>\n",
       "      <th></th>\n",
       "      <th></th>\n",
       "    </tr>\n",
       "  </thead>\n",
       "  <tbody>\n",
       "    <tr>\n",
       "      <th>2015-07-02</th>\n",
       "      <td>0.00</td>\n",
       "      <td>0.00</td>\n",
       "      <td>0.00</td>\n",
       "      <td>NaN</td>\n",
       "      <td>NaN</td>\n",
       "    </tr>\n",
       "    <tr>\n",
       "      <th>2015-07-06</th>\n",
       "      <td>-4.68</td>\n",
       "      <td>-0.03</td>\n",
       "      <td>0.72</td>\n",
       "      <td>3827.35</td>\n",
       "      <td>0.10</td>\n",
       "    </tr>\n",
       "    <tr>\n",
       "      <th>2015-07-07</th>\n",
       "      <td>-3.54</td>\n",
       "      <td>1.29</td>\n",
       "      <td>2.47</td>\n",
       "      <td>3850.66</td>\n",
       "      <td>0.10</td>\n",
       "    </tr>\n",
       "    <tr>\n",
       "      <th>2015-07-08</th>\n",
       "      <td>-6.25</td>\n",
       "      <td>-0.55</td>\n",
       "      <td>2.67</td>\n",
       "      <td>3787.67</td>\n",
       "      <td>0.10</td>\n",
       "    </tr>\n",
       "    <tr>\n",
       "      <th>2015-07-09</th>\n",
       "      <td>-4.79</td>\n",
       "      <td>-0.39</td>\n",
       "      <td>0.66</td>\n",
       "      <td>3796.26</td>\n",
       "      <td>0.12</td>\n",
       "    </tr>\n",
       "    <tr>\n",
       "      <th>...</th>\n",
       "      <td>...</td>\n",
       "      <td>...</td>\n",
       "      <td>...</td>\n",
       "      <td>...</td>\n",
       "      <td>...</td>\n",
       "    </tr>\n",
       "    <tr>\n",
       "      <th>2025-06-24</th>\n",
       "      <td>-71.43</td>\n",
       "      <td>26.14</td>\n",
       "      <td>246.06</td>\n",
       "      <td>13461.10</td>\n",
       "      <td>4.30</td>\n",
       "    </tr>\n",
       "    <tr>\n",
       "      <th>2025-06-25</th>\n",
       "      <td>-72.96</td>\n",
       "      <td>24.92</td>\n",
       "      <td>240.88</td>\n",
       "      <td>13461.17</td>\n",
       "      <td>4.36</td>\n",
       "    </tr>\n",
       "    <tr>\n",
       "      <th>2025-06-26</th>\n",
       "      <td>-71.25</td>\n",
       "      <td>28.44</td>\n",
       "      <td>236.91</td>\n",
       "      <td>13569.29</td>\n",
       "      <td>4.40</td>\n",
       "    </tr>\n",
       "    <tr>\n",
       "      <th>2025-06-27</th>\n",
       "      <td>-69.96</td>\n",
       "      <td>47.95</td>\n",
       "      <td>235.69</td>\n",
       "      <td>13641.10</td>\n",
       "      <td>4.39</td>\n",
       "    </tr>\n",
       "    <tr>\n",
       "      <th>2025-06-30</th>\n",
       "      <td>-68.89</td>\n",
       "      <td>45.89</td>\n",
       "      <td>238.59</td>\n",
       "      <td>13712.71</td>\n",
       "      <td>4.45</td>\n",
       "    </tr>\n",
       "  </tbody>\n",
       "</table>\n",
       "<p>2513 rows × 5 columns</p>\n",
       "</div>"
      ],
      "text/plain": [
       "             TDOC    NKE     AWK     SPXTR  SOFR\n",
       "Date                                            \n",
       "2015-07-02   0.00   0.00    0.00       NaN   NaN\n",
       "2015-07-06  -4.68  -0.03    0.72   3827.35  0.10\n",
       "2015-07-07  -3.54   1.29    2.47   3850.66  0.10\n",
       "2015-07-08  -6.25  -0.55    2.67   3787.67  0.10\n",
       "2015-07-09  -4.79  -0.39    0.66   3796.26  0.12\n",
       "...           ...    ...     ...       ...   ...\n",
       "2025-06-24 -71.43  26.14  246.06  13461.10  4.30\n",
       "2025-06-25 -72.96  24.92  240.88  13461.17  4.36\n",
       "2025-06-26 -71.25  28.44  236.91  13569.29  4.40\n",
       "2025-06-27 -69.96  47.95  235.69  13641.10  4.39\n",
       "2025-06-30 -68.89  45.89  238.59  13712.71  4.45\n",
       "\n",
       "[2513 rows x 5 columns]"
      ]
     },
     "execution_count": 40,
     "metadata": {},
     "output_type": "execute_result"
    }
   ],
   "source": [
    "data_stocks = pd.read_csv('Stocks.csv')\n",
    "data_stocks = data_stocks.set_index('Date')\n",
    "data_stocks.index = pd.to_datetime(data_stocks.index)\n",
    "data_stocks = data_stocks.sort_index(ascending=True)\n",
    "data_stocks"
   ]
  },
  {
   "cell_type": "markdown",
   "id": "692f49a9",
   "metadata": {},
   "source": [
    "3. (a) Calculate the simple daily return on April 9, 2025 for TDOC, NKE, AWK, and SPXTR."
   ]
  },
  {
   "cell_type": "code",
   "execution_count": 41,
   "id": "5401aa77",
   "metadata": {},
   "outputs": [
    {
     "name": "stdout",
     "output_type": "stream",
     "text": [
      "Daily Returns on April 9, 2025:\n",
      "TDOC: 10.0508%\n",
      "NKE: 11.3626%\n",
      "AWK: -1.3293%\n",
      "SPXTR: 9.5168%\n"
     ]
    }
   ],
   "source": [
    "# Convert cumulative returns to decimal form\n",
    "data_stocks['TDOC'] = data_stocks['TDOC'] / 100\n",
    "data_stocks['NKE'] = data_stocks['NKE'] / 100\n",
    "data_stocks['AWK'] = data_stocks['AWK'] / 100\n",
    "data_stocks['SOFR'] = data_stocks['SOFR'] / 100\n",
    "\n",
    "# Calculate daily simple returns for cumulative returns (TDOC, NKE, AWK)\n",
    "# For cumulative returns: r_t = (1 + R_t) / (1 + R_{t-1}) - 1\n",
    "data_stocks['TDOC_return'] = (1 + data_stocks['TDOC']) / (1 + data_stocks['TDOC'].shift(1)) - 1\n",
    "data_stocks['NKE_return'] = (1 + data_stocks['NKE']) / (1 + data_stocks['NKE'].shift(1)) - 1\n",
    "data_stocks['AWK_return'] = (1 + data_stocks['AWK']) / (1 + data_stocks['AWK'].shift(1)) - 1\n",
    "\n",
    "# Calculate daily simple returns for SPXTR (index value)\n",
    "data_stocks['SPXTR_return'] = data_stocks['SPXTR'].pct_change()\n",
    "\n",
    "# Convert SOFR from annual rate to daily rate (360 days per year)\n",
    "data_stocks['SOFR_daily'] = data_stocks['SOFR'] / 360\n",
    "\n",
    "# Calculate excess returns for regression\n",
    "data_stocks['TDOC_excess'] = data_stocks['TDOC_return'] - data_stocks['SOFR_daily']\n",
    "data_stocks['NKE_excess'] = data_stocks['NKE_return'] - data_stocks['SOFR_daily']\n",
    "data_stocks['AWK_excess'] = data_stocks['AWK_return'] - data_stocks['SOFR_daily']\n",
    "data_stocks['SPXTR_excess'] = data_stocks['SPXTR_return'] - data_stocks['SOFR_daily']\n",
    "\n",
    "# Get returns for April 9, 2025\n",
    "april_9_returns = data_stocks.loc['2025-04-09']\n",
    "print(f\"Daily Returns on April 9, 2025:\")\n",
    "print(f\"TDOC: {april_9_returns['TDOC_return'] * 100:.4f}%\")\n",
    "print(f\"NKE: {april_9_returns['NKE_return'] * 100:.4f}%\")\n",
    "print(f\"AWK: {april_9_returns['AWK_return'] * 100:.4f}%\")\n",
    "print(f\"SPXTR: {april_9_returns['SPXTR_return'] * 100:.4f}%\")"
   ]
  },
  {
   "cell_type": "markdown",
   "id": "c1453d78",
   "metadata": {},
   "source": [
    "3. (c) Estimate the betas for TDOC, NKE, and AWK by running OLS with an intercept over the full sample period (see LN 4.1)."
   ]
  },
  {
   "cell_type": "code",
   "execution_count": 42,
   "id": "0d5057a8",
   "metadata": {},
   "outputs": [
    {
     "name": "stdout",
     "output_type": "stream",
     "text": [
      "Full Sample Beta Estimates:\n",
      "TDOC Beta: 1.1653 (R²: 0.1221)\n",
      "NKE Beta: 1.0218 (R²: 0.3592)\n",
      "AWK Beta: 0.5653 (R²: 0.1962)\n"
     ]
    }
   ],
   "source": [
    "from scipy import stats\n",
    "\n",
    "# Drop NaN values for regression\n",
    "clean_data = data_stocks.dropna()\n",
    "\n",
    "# Run OLS regression for each stock\n",
    "# Beta for TDOC\n",
    "slope_tdoc, intercept_tdoc, r_value_tdoc, p_value_tdoc, std_err_tdoc = stats.linregress(\n",
    "    clean_data['SPXTR_excess'], clean_data['TDOC_excess']\n",
    ")\n",
    "\n",
    "# Beta for NKE\n",
    "slope_nke, intercept_nke, r_value_nke, p_value_nke, std_err_nke = stats.linregress(\n",
    "    clean_data['SPXTR_excess'], clean_data['NKE_excess']\n",
    ")\n",
    "\n",
    "# Beta for AWK\n",
    "slope_awk, intercept_awk, r_value_awk, p_value_awk, std_err_awk = stats.linregress(\n",
    "    clean_data['SPXTR_excess'], clean_data['AWK_excess']\n",
    ")\n",
    "\n",
    "print(f\"Full Sample Beta Estimates:\")\n",
    "print(f\"TDOC Beta: {slope_tdoc:.4f} (R²: {r_value_tdoc**2:.4f})\")\n",
    "print(f\"NKE Beta: {slope_nke:.4f} (R²: {r_value_nke**2:.4f})\")\n",
    "print(f\"AWK Beta: {slope_awk:.4f} (R²: {r_value_awk**2:.4f})\")"
   ]
  },
  {
   "cell_type": "markdown",
   "id": "31ad9e25",
   "metadata": {},
   "source": [
    "3. (e) Betas are not fixed but may change over time. To capture this time variation, estimate rolling betas for TDOC, NKE, and AWK using a 250-day rolling window. As before, use OLS with an intercept to estimate beta at each point. For example, the beta on April 9, 2025, should be estimated using returns from the 249 previous trading days plus April 9, 2025 (i.e., a full window of 250 observations).\n",
    "\n",
    "What are the 250-day rolling beta estimates for TDOC, NKE, and AWK as of April 9, 2025?"
   ]
  },
  {
   "cell_type": "code",
   "execution_count": 43,
   "id": "5b74e58e",
   "metadata": {},
   "outputs": [
    {
     "name": "stdout",
     "output_type": "stream",
     "text": [
      "250-Day Rolling Beta Estimates as of April 9, 2025:\n",
      "TDOC: 1.1921\n",
      "NKE: 0.7813\n",
      "AWK: -0.0632\n"
     ]
    }
   ],
   "source": [
    "# Calculate 250-day rolling betas\n",
    "window = 250\n",
    "\n",
    "# Initialize lists to store rolling betas\n",
    "rolling_beta_tdoc = []\n",
    "rolling_beta_nke = []\n",
    "rolling_beta_awk = []\n",
    "dates = []\n",
    "\n",
    "# Calculate rolling betas\n",
    "for i in range(window - 1, len(clean_data)):\n",
    "    window_data = clean_data.iloc[i - window + 1:i + 1]\n",
    "    \n",
    "    # Beta for TDOC\n",
    "    slope_tdoc_rolling, _, _, _, _ = stats.linregress(\n",
    "        window_data['SPXTR_excess'], window_data['TDOC_excess']\n",
    "    )\n",
    "    rolling_beta_tdoc.append(slope_tdoc_rolling)\n",
    "    \n",
    "    # Beta for NKE\n",
    "    slope_nke_rolling, _, _, _, _ = stats.linregress(\n",
    "        window_data['SPXTR_excess'], window_data['NKE_excess']\n",
    "    )\n",
    "    rolling_beta_nke.append(slope_nke_rolling)\n",
    "    \n",
    "    # Beta for AWK\n",
    "    slope_awk_rolling, _, _, _, _ = stats.linregress(\n",
    "        window_data['SPXTR_excess'], window_data['AWK_excess']\n",
    "    )\n",
    "    rolling_beta_awk.append(slope_awk_rolling)\n",
    "    \n",
    "    dates.append(clean_data.index[i])\n",
    "\n",
    "# Create DataFrame with rolling betas\n",
    "rolling_betas = pd.DataFrame({\n",
    "    'Date': dates,\n",
    "    'TDOC_beta': rolling_beta_tdoc,\n",
    "    'NKE_beta': rolling_beta_nke,\n",
    "    'AWK_beta': rolling_beta_awk\n",
    "}).set_index('Date')\n",
    "\n",
    "# Get beta estimates for April 9, 2025\n",
    "april_9_betas = rolling_betas.loc['2025-04-09']\n",
    "print(f\"250-Day Rolling Beta Estimates as of April 9, 2025:\")\n",
    "print(f\"TDOC: {april_9_betas['TDOC_beta']:.4f}\")\n",
    "print(f\"NKE: {april_9_betas['NKE_beta']:.4f}\")\n",
    "print(f\"AWK: {april_9_betas['AWK_beta']:.4f}\")"
   ]
  },
  {
   "cell_type": "markdown",
   "id": "10f0ef36",
   "metadata": {},
   "source": [
    "3. (e) (ii) Plot the 250-day rolling beta estimates over time. Use time on the x-axis and beta values on the y-axis. Include the following in your plot:\n",
    "\n",
    "TDOC's rolling beta in black\n",
    "NKE's rolling beta in blue\n",
    "AWK's rolling beta in green\n"
   ]
  },
  {
   "cell_type": "code",
   "execution_count": 44,
   "id": "0657fffb",
   "metadata": {},
   "outputs": [
    {
     "data": {
      "image/png": "[encoded data removed]",
      "text/plain": [
       "<Figure size 1200x800 with 1 Axes>"
      ]
     },
     "metadata": {},
     "output_type": "display_data"
    }
   ],
   "source": [
    "# Plot 250-day rolling betas\n",
    "plt.figure(figsize=(12, 8))\n",
    "plt.plot(rolling_betas.index, rolling_betas['TDOC_beta'], color='black', label='TDOC', linewidth=1.5)\n",
    "plt.plot(rolling_betas.index, rolling_betas['NKE_beta'], color='blue', label='NKE', linewidth=1.5)\n",
    "plt.plot(rolling_betas.index, rolling_betas['AWK_beta'], color='green', label='AWK', linewidth=1.5)\n",
    "plt.xlabel('Date', fontsize=12)\n",
    "plt.ylabel('Rolling Beta (250-day)', fontsize=12)\n",
    "plt.title('250-Day Rolling Beta Estimates', fontsize=14)\n",
    "plt.legend(fontsize=10)\n",
    "plt.grid(alpha=0.3)\n",
    "plt.xticks(rotation=45)\n",
    "plt.tight_layout()\n",
    "plt.show()"
   ]
  }
 ],
 "metadata": {
  "kernelspec": {
   "display_name": "basepy",
   "language": "python",
   "name": "python3"
  },
  "language_info": {
   "codemirror_mode": {
    "name": "ipython",
    "version": 3
   },
   "file_extension": ".py",
   "mimetype": "text/x-python",
   "name": "python",
   "nbconvert_exporter": "python",
   "pygments_lexer": "ipython3",
   "version": "3.12.9"
  }
 },
 "nbformat": 4,
 "nbformat_minor": 5
}
